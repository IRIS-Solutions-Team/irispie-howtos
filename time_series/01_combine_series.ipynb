{
 "cells": [
  {
   "cell_type": "markdown",
   "id": "1497478c-8a96-4442-bc44-5186cffbb5aa",
   "metadata": {},
   "source": [
    "# Combine two or more time series\n",
    "\n",
    "Import the Iris Pie package and create two time series, `x` and `y`. Note that these two time series\n",
    "\n",
    "* have distinct but overlapping spans (a time series span goes from the first available observation to the last available observation): `x` goes from `2020-Q1` to `2021-Q4`, `y` goes from `2020-Q4` to `2022-Q3`;\n",
    "\n",
    "* contain in-sample missing observations in the overlapping parts of their spans: `x` in `2021-Q3`, `y` in `2021-Q1`\n",
    "\n",
    "Both of these facts are useful for illustrating how the `overlay` and `underlay` methods work.\n"
   ]
  },
  {
   "cell_type": "code",
   "execution_count": 14,
   "id": "4fa325f7-4898-4aae-bd0d-8191c44e6b11",
   "metadata": {},
   "outputs": [
    {
     "name": "stdout",
     "output_type": "stream",
     "text": [
      "\n",
      "Series Q 2020-Q1…2022-Q3*11×2\n",
      "Description: \"\"\n",
      "\n",
      "     2020-Q1              1              ⋅\n",
      "     2020-Q2              2              ⋅\n",
      "     2020-Q3              3              ⋅\n",
      "     2020-Q4              4             10\n",
      "     2021-Q1              5              ⋅\n",
      "     2021-Q2              6             30\n",
      "     2021-Q3              ⋅             40\n",
      "     2021-Q4              8             50\n",
      "     2022-Q1              ⋅             60\n",
      "     2022-Q2              ⋅             70\n",
      "     2022-Q3              ⋅             80\n",
      "\n"
     ]
    }
   ],
   "source": [
    "import irispie as ir\n",
    "\n",
    "x = ir.Series(start=ir.qq(2020,1), values=(1, 2, 3, 4, 5, 6, None, 8))\n",
    "y = ir.Series(start=ir.qq(2020,4), values=(10, None, 30, 40, 50, 60, 70, 80))\n",
    "\n",
    "print(x | y)"
   ]
  },
  {
   "cell_type": "code",
   "execution_count": 9,
   "id": "ae44e60f-2e91-4ed6-8c6f-aa1c9bc3f878",
   "metadata": {},
   "outputs": [
    {
     "name": "stdout",
     "output_type": "stream",
     "text": [
      "\n",
      "Series Q 2020-Q1…2022-Q3*11×3\n",
      "Description: \"\"\n",
      "\n",
      "     2020-Q1              1              1              ⋅\n",
      "     2020-Q2              2              2              ⋅\n",
      "     2020-Q3              3              3              ⋅\n",
      "     2020-Q4             10              4             10\n",
      "     2021-Q1              ⋅              5              ⋅\n",
      "     2021-Q2             30              6             30\n",
      "     2021-Q3             40              ⋅             40\n",
      "     2021-Q4             50              8             50\n",
      "     2022-Q1             60              ⋅             60\n",
      "     2022-Q2             70              ⋅             70\n",
      "     2022-Q3             80              ⋅             80\n",
      "\n"
     ]
    }
   ],
   "source": [
    "\n",
    "xx = x.copy()\n",
    "xx.overlay(y)\n",
    "\n",
    "print(xx | x | y)"
   ]
  },
  {
   "cell_type": "code",
   "execution_count": 11,
   "id": "42f6533c-f8f8-4738-b26e-19d24c3dc402",
   "metadata": {},
   "outputs": [
    {
     "name": "stdout",
     "output_type": "stream",
     "text": [
      "\n",
      "Series Q 2020-Q1…2022-Q3*11×3\n",
      "Description: \"\"\n",
      "\n",
      "     2020-Q1              1              1              ⋅\n",
      "     2020-Q2              2              2              ⋅\n",
      "     2020-Q3              3              3              ⋅\n",
      "     2020-Q4              4              4             10\n",
      "     2021-Q1              5              5              ⋅\n",
      "     2021-Q2              6              6             30\n",
      "     2021-Q3              ⋅              ⋅             40\n",
      "     2021-Q4              8              8             50\n",
      "     2022-Q1             60              ⋅             60\n",
      "     2022-Q2             70              ⋅             70\n",
      "     2022-Q3             80              ⋅             80\n",
      "\n"
     ]
    }
   ],
   "source": [
    "xx = x.copy()\n",
    "xx.underlay(y)\n",
    "\n",
    "print(xx | x | y)\n"
   ]
  },
  {
   "cell_type": "code",
   "execution_count": 12,
   "id": "3b380eef-f3d9-4c6b-8389-b4782e8f5bbf",
   "metadata": {},
   "outputs": [
    {
     "name": "stdout",
     "output_type": "stream",
     "text": [
      "\n",
      "Series Q 2020-Q1…2022-Q3*11×3\n",
      "Description: \"\"\n",
      "\n",
      "     2020-Q1              1              1              ⋅\n",
      "     2020-Q2              2              2              ⋅\n",
      "     2020-Q3              3              3              ⋅\n",
      "     2020-Q4             10              4             10\n",
      "     2021-Q1              ⋅              5              ⋅\n",
      "     2021-Q2             30              6             30\n",
      "     2021-Q3             40              ⋅             40\n",
      "     2021-Q4             50              8             50\n",
      "     2022-Q1             60              ⋅             60\n",
      "     2022-Q2             70              ⋅             70\n",
      "     2022-Q3             80              ⋅             80\n",
      "\n"
     ]
    }
   ],
   "source": [
    "z = ir.overlay(x, y)\n",
    "\n",
    "print(z | x | y)\n"
   ]
  },
  {
   "cell_type": "code",
   "execution_count": 13,
   "id": "8a67f8b7-c9fc-40a4-a2f2-b7b986535379",
   "metadata": {},
   "outputs": [
    {
     "name": "stdout",
     "output_type": "stream",
     "text": [
      "\n",
      "Series Q 2020-Q1…2022-Q3*11×3\n",
      "Description: \"\"\n",
      "\n",
      "     2020-Q1              1              1              ⋅\n",
      "     2020-Q2              2              2              ⋅\n",
      "     2020-Q3              3              3              ⋅\n",
      "     2020-Q4              4              4             10\n",
      "     2021-Q1              5              5              ⋅\n",
      "     2021-Q2              6              6             30\n",
      "     2021-Q3              ⋅              ⋅             40\n",
      "     2021-Q4              8              8             50\n",
      "     2022-Q1             60              ⋅             60\n",
      "     2022-Q2             70              ⋅             70\n",
      "     2022-Q3             80              ⋅             80\n",
      "\n"
     ]
    }
   ],
   "source": [
    "z = ir.underlay(x, y)\n",
    "\n",
    "print(z | x | y)"
   ]
  }
 ],
 "metadata": {
  "kernelspec": {
   "display_name": "env12-irispie",
   "language": "python",
   "name": "env12-irispie"
  },
  "language_info": {
   "codemirror_mode": {
    "name": "ipython",
    "version": 3
   },
   "file_extension": ".py",
   "mimetype": "text/x-python",
   "name": "python",
   "nbconvert_exporter": "python",
   "pygments_lexer": "ipython3",
   "version": "3.12.6"
  }
 },
 "nbformat": 4,
 "nbformat_minor": 5
}
